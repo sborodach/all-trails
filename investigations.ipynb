{
 "cells": [
  {
   "cell_type": "markdown",
   "id": "illegal-moore",
   "metadata": {},
   "source": [
    "# Things to investigate"
   ]
  },
  {
   "cell_type": "markdown",
   "id": "lasting-petroleum",
   "metadata": {},
   "source": [
    "2. WHAT IS THIS?!\n",
    "3. fix histogram legend placement\n",
    "4. add percentages in legend to percentage barplot"
   ]
  },
  {
   "cell_type": "code",
   "execution_count": 2,
   "id": "legitimate-making",
   "metadata": {},
   "outputs": [],
   "source": [
    "# # WHAT IS THIS?!\n",
    "\n",
    "# driver = webdriver.Chrome()\n",
    "# driver.get('https://www.alltrails.com/trail/us/new-jersey/huylers-landing-trail')\n",
    "# sleep(3)\n",
    "\n",
    "# for i,links in enumerate(link):\n",
    "\n",
    "#     # step 1: inspect webpage -- since they have similar structure, I can check out one of the links\n",
    "#     # step 2: get the HTML code via requests library\n",
    "#     sub_page = requests.get(links)\n",
    "    \n",
    "#     #step 3: put HTML into MongoDB \n",
    "#     # here I made the key as the link to the page and value the html code\n",
    "#     pages.insert_one({'link':links ,'html': sub_page.text})\n",
    "    \n",
    "#     # Add time between request to try to prevent this from happening\n",
    "#     print('Reviewer site number {}   website link: {}'.format(i,links) )\n",
    "#     time.sleep(2)   # If you request too much code too quickly you can get banned from scrapping the site!\n",
    "    \n",
    "#     # I have added this so that it does not take to long to run \n",
    "#     if i > 9:\n",
    "#         break"
   ]
  },
  {
   "cell_type": "code",
   "execution_count": null,
   "id": "dried-experience",
   "metadata": {},
   "outputs": [],
   "source": [
    "# to get reviewer specific webpage html\n",
    "for review in reviews:\n",
    "    reviewer_link = 'alltrails.com' + soup.find_all('div', class_=\"styles-module__container___3etfA\")[1].find('a', class_=\"styles-module__link___2i6Za styles-module__recording___3jQX3 xlate-none\")['href']\n",
    "    soup.find_all('div', class_='data')"
   ]
  }
 ],
 "metadata": {
  "kernelspec": {
   "display_name": "Python 3",
   "language": "python",
   "name": "python3"
  },
  "language_info": {
   "codemirror_mode": {
    "name": "ipython",
    "version": 3
   },
   "file_extension": ".py",
   "mimetype": "text/x-python",
   "name": "python",
   "nbconvert_exporter": "python",
   "pygments_lexer": "ipython3",
   "version": "3.7.9"
  }
 },
 "nbformat": 4,
 "nbformat_minor": 5
}
