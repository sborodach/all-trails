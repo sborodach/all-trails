{
 "cells": [
  {
   "cell_type": "code",
   "execution_count": 27,
   "metadata": {},
   "outputs": [],
   "source": [
    "from pymongo import MongoClient\n",
    "import pprint\n",
    "\n",
    "import pandas as pd\n",
    "pd.set_option('display.max_rows', None)\n",
    "import matplotlib.pyplot as plt\n",
    "plt.style.use('fivethirtyeight')\n",
    "\n",
    "import requests\n",
    "from bs4 import BeautifulSoup\n",
    "\n",
    "import json\n",
    "import time\n",
    "import copy\n",
    "\n",
    "import os\n",
    "\n",
    "from time import sleep\n",
    "from selenium import webdriver\n",
    "\n",
    "import sys\n",
    "import random\n",
    "import scipy.stats as scs\n",
    "import numpy as np"
   ]
  },
  {
   "cell_type": "code",
   "execution_count": null,
   "metadata": {},
   "outputs": [],
   "source": [
    "# # instantiating variables to be columns in dataframe\n",
    "# written_review = \"\"\n",
    "# ratings = []\n",
    "# dates = []\n",
    "# types = []\n",
    "# review_text = []\n",
    "# reviewer_links = []"
   ]
  },
  {
   "cell_type": "code",
   "execution_count": 52,
   "metadata": {},
   "outputs": [
    {
     "data": {
      "text/plain": [
       "<pymongo.results.InsertOneResult at 0x7fb6bee93050>"
      ]
     },
     "execution_count": 52,
     "metadata": {},
     "output_type": "execute_result"
    }
   ],
   "source": [
    "hike_url = 'https://www.alltrails.com/trail/us/new-york/bald-mountain-loop'\n",
    "\n",
    "# ChromeDriver & MongoClient\n",
    "driver = webdriver.Chrome()\n",
    "client = MongoClient()\n",
    "\n",
    "driver.get(hike_url)\n",
    "sleep(3)\n",
    "\n",
    "driver.execute_script(\"window.scrollTo(0, 10000)\")\n",
    "\n",
    "# find 'show more reviews button'\n",
    "search = driver.find_element_by_css_selector(\"#reviews > div.styles-module__container___px-t2.xlate-none > button\")\n",
    "\n",
    "# prevents error being thrown once total trail reviews is reached; \n",
    "showing_results = driver.find_element_by_css_selector('#reviews > div.styles-module__container___px-t2.xlate-none > div')\n",
    "total_ = int(showing_results.text.split(' ')[-1])\n",
    "per_page = int(showing_results.text.split(' ')[-3])\n",
    "\n",
    "# clicks through to see additional reviews\n",
    "# x = 0\n",
    "for _ in range(total_//30):\n",
    "#     if x < 15:\n",
    "    search.click()\n",
    "    sleep(1)\n",
    "#     x += 1\n",
    "#     else:\n",
    "#         break\n",
    "\n",
    "# get page html\n",
    "html = driver.page_source\n",
    "time.sleep(2)\n",
    "\n",
    "# add html to mongo\n",
    "db = client.bearmountain\n",
    "trail_name = \"\".join(((\" \".join(((hike_url.split('/'))[-1]).split('-'))).title()).split(\" \"))\n",
    "pages = db[trail_name]\n",
    "pages.insert_one({'link': hike_url, 'html': html})"
   ]
  },
  {
   "cell_type": "code",
   "execution_count": null,
   "metadata": {},
   "outputs": [],
   "source": [
    "# parsing data\n",
    "soup = BeautifulSoup(html, 'html.parser')\n",
    "\n",
    "# getting trail title, description, difficulty, info\n",
    "soup.find('h1', class_='xlate-none styles-module__name___1nEtW').text.rstrip()\n",
    "soup.find('p', id=\"auto-overview\").text.rstrip()\n",
    "soup.find('span', class_=\"styles-module__diff___22Qtv styles-module__moderate___3w1it styles-module__selected___3fawg\").text.rstrip()\n",
    "soup.find('span', class_=\"styles-module__detailData___kQ-eK\").text.rstrip()\n",
    "\n",
    "# getting reviewer data for trail, appending to lists\n",
    "for i, review in enumerate(soup.find_all('div', itemprop=\"review\")):\n",
    "\n",
    "    ratings.append(soup.find_all('span', class_=\"MuiRating-root default-module__rating___1k45X MuiRating-sizeLarge MuiRating-readOnly\")[i]['aria-label'])\n",
    "    dates.append(soup.find_all('span', class_=\"styles-module__dateTrailDetails___3qgZC xlate-none\")[i].text.rstrip())\n",
    "    types.append(soup.find_all('span', class_=\"styles-module__tag___2s-oD styles-module__activityTag___3-RdN\")[i].text.rstrip())\n",
    "\n",
    "    written_review = soup.find_all('div', class_=\"styles-module__container___3etfA\")[i].find('p', itemprop=\"reviewBody\")\n",
    "\n",
    "    if written_review == None:\n",
    "        review_text.append(None)\n",
    "\n",
    "    else:\n",
    "        review_text.append(soup.find_all('div', class_=\"styles-module__container___3etfA\")[i].find('p', itemprop=\"reviewBody\").text.rstrip())        \n",
    "\n",
    "#         reviewer_links.append('alltrails.com' + soup.find_all('div', class_=\"styles-module__container___3etfA\")[i].find('a', class_=\"styles-module__link___2i6Za styles-module__recording___3jQX3 xlate-none\")['href'])"
   ]
  },
  {
   "cell_type": "code",
   "execution_count": 47,
   "metadata": {},
   "outputs": [
    {
     "data": {
      "text/plain": [
       "['PopolopenTorneLoop',\n",
       " 'DoodletownBridlePathLoopTrail',\n",
       " 'DunderbergBaldMountainAndTheTimpLoop',\n",
       " 'PerkinsMemorialTowerViaAppalachianTrail',\n",
       " 'TimpTorneTrail']"
      ]
     },
     "execution_count": 47,
     "metadata": {},
     "output_type": "execute_result"
    }
   ],
   "source": [
    "# Mongo commands:\n",
    "# client.list_database_names()\n",
    "# client.drop_database()\n",
    "client = MongoClient()\n",
    "db = client.bearmountain\n",
    "db.list_collection_names()\n",
    "# db.collection_name or db[collection_name]\n",
    "# db.drop_collection('a')"
   ]
  },
  {
   "cell_type": "code",
   "execution_count": null,
   "metadata": {},
   "outputs": [],
   "source": [
    "# close Selenium ChromeDriver\n",
    "driver.close()"
   ]
  },
  {
   "cell_type": "code",
   "execution_count": 31,
   "metadata": {},
   "outputs": [],
   "source": [
    "# collecting data into dataframe\n",
    "df = pd.DataFrame({'rating': ratings, 'date':dates, 'desc': types, 'reviews': review_text}).sort_values('rating') # to be added: 'links': reviewer_links"
   ]
  },
  {
   "cell_type": "code",
   "execution_count": null,
   "metadata": {},
   "outputs": [],
   "source": [
    "five = df[df['rating'] == '5 Stars']['reviews'].count() # num of written reviews left by five-star reviewers\n",
    "four = df[df['rating'] == '4 Stars']['reviews'].count() # num of written reviews left by four-star reviewers\n",
    "num_five = df[df['rating']=='5 Stars']['rating'].count() # num of five-star reviewers\n",
    "num_four = df[df['rating']=='4 Stars']['rating'].count() # num of four-star reviewers\n",
    "\n",
    "table = pd.DataFrame({'Written Reviews': [four, five], 'Total Reviewers': [num_four, num_five]}, index = ['4 Stars', '5 Stars']).T\n",
    "table = table.style.set_properties(**{'text-align': 'center'})\n",
    "table\n",
    "# num of written reviews left by five-star reviewers"
   ]
  },
  {
   "cell_type": "code",
   "execution_count": 153,
   "metadata": {},
   "outputs": [
    {
     "data": {
      "text/html": [
       "<style  type=\"text/css\" >\n",
       "#T_dd485_row0_col0,#T_dd485_row0_col1,#T_dd485_row1_col0,#T_dd485_row1_col1{\n",
       "            text-align:  center;\n",
       "        }</style><table id=\"T_dd485_\" ><thead>    <tr>        <th class=\"blank level0\" ></th>        <th class=\"col_heading level0 col0\" >4 Stars</th>        <th class=\"col_heading level0 col1\" >5 Stars</th>    </tr></thead><tbody>\n",
       "                <tr>\n",
       "                        <th id=\"T_dd485_level0_row0\" class=\"row_heading level0 row0\" >Written Reviews</th>\n",
       "                        <td id=\"T_dd485_row0_col0\" class=\"data row0 col0\" >47</td>\n",
       "                        <td id=\"T_dd485_row0_col1\" class=\"data row0 col1\" >75</td>\n",
       "            </tr>\n",
       "            <tr>\n",
       "                        <th id=\"T_dd485_level0_row1\" class=\"row_heading level0 row1\" >Total Reviewers</th>\n",
       "                        <td id=\"T_dd485_row1_col0\" class=\"data row1 col0\" >206</td>\n",
       "                        <td id=\"T_dd485_row1_col1\" class=\"data row1 col1\" >361</td>\n",
       "            </tr>\n",
       "    </tbody></table>"
      ],
      "text/plain": [
       "<pandas.io.formats.style.Styler at 0x7fe30fb70d90>"
      ]
     },
     "execution_count": 153,
     "metadata": {},
     "output_type": "execute_result"
    }
   ],
   "source": [
    "# data from first collection"
   ]
  },
  {
   "cell_type": "raw",
   "metadata": {},
   "source": [
    "Scientific Question: Are 4-star reviewers more likely than 5-star reviewers to leave written reviews?"
   ]
  },
  {
   "cell_type": "markdown",
   "metadata": {},
   "source": [
    "### Frequentist Approach\n",
    "\n",
    "1. Question: Do 4 star and 5 star reviewers leave comments at different rates?\n",
    "\n",
    "2. H0: Mu4 = Mu5 (4 and 5 star reviewers are equally likely to leave written reviews — P(R | 4) = P(R | 5))\n",
    "\n",
    "3. Ha: Mu4 != Mu5 (4 and 5 star reviewers leave written reviews at different rates — P(R | 4) != P(R | 5))\n",
    "\n",
    "4. Test Statistic: 4-Stars: 206 reviews and 5-Stars: 361 reviewers\n",
    "\n",
    "5. Distribution: Normal\n",
    "\n",
    "6. Alpha: 0.2\n",
    "\n",
    "7. Data:\n",
    "\n",
    "    4 Stars 47/206\n",
    "    \n",
    "    5 Stars 75/361"
   ]
  },
  {
   "cell_type": "code",
   "execution_count": 443,
   "metadata": {},
   "outputs": [
    {
     "name": "stdout",
     "output_type": "stream",
     "text": [
      "Mean: \n",
      "   4 Stars 0.228 \n",
      "   5 Stars 0.208\n",
      "\n",
      "Standard Deviation: \n",
      "   4 Stars 0.42 \n",
      "   5 Stars 0.406\n"
     ]
    }
   ],
   "source": [
    "four_stars_distribution = ([0] * (206 - 47)) + ([1] * 47)\n",
    "five_stars_distribution = (([0] * (361 - 75)) + ([1] * 75))\n",
    "# four_stars_prob_distribution = []\n",
    "# five_stars_prob_distribution = []\n",
    "# for i in four_stars_distribution:\n",
    "#     four_stars_prob_distribution.append((mean_pop, 1 - mean_pop)[i])\n",
    "# for i in five_stars_distribution:\n",
    "#     five_stars_prob_distribution.append((mean_pop, 1 - mean_pop)[i])\n",
    "print(f'Mean: \\n   4 Stars {round(np.mean(four_stars_distribution),3)} \\n   5 Stars {round(np.mean(five_stars_distribution),3)}\\n')\n",
    "print(f'Standard Deviation: \\n   4 Stars {round(np.std(four_stars_distribution),3)} \\n   5 Stars {round(np.std(five_stars_distribution),3)}')"
   ]
  },
  {
   "cell_type": "code",
   "execution_count": 444,
   "metadata": {},
   "outputs": [
    {
     "data": {
      "text/plain": [
       "0.5634350201704087"
      ]
     },
     "execution_count": 444,
     "metadata": {},
     "output_type": "execute_result"
    }
   ],
   "source": [
    "# calculate welch test statistic (function in scipt.py)\n",
    "test_statistic = welch_test_statistic(four_stars_distribution, five_stars_distribution)\n",
    "test_statistic"
   ]
  },
  {
   "cell_type": "code",
   "execution_count": 458,
   "metadata": {},
   "outputs": [],
   "source": [
    "# calculate degrees of freedom\n",
    "df = welch_satterhwaithe_df(four_stars_distribution, five_stars_distribution)\n",
    "\n",
    "# set up distribution\n",
    "students = scs.t(df)"
   ]
  },
  {
   "cell_type": "code",
   "execution_count": 459,
   "metadata": {},
   "outputs": [
    {
     "data": {
      "image/png": "[encoded data removed]",
      "text/plain": [
       "<Figure size 1008x432 with 1 Axes>"
      ]
     },
     "metadata": {},
     "output_type": "display_data"
    }
   ],
   "source": [
    "# Plotting distribution of Welch's Test Statistic Assuming H0\n",
    "\n",
    "x = np.linspace(-4, 4, num=250)\n",
    "fig, ax = plt.subplots(1, figsize=(14, 6))\n",
    "students = scs.t(df)\n",
    "ax.plot(x, students.pdf(x), linewidth=2, label=\"Degrees of Freedom: {:2.2f}\".format(df))\n",
    "_ = ax.fill_between(x, students.pdf(x), where=(x <= -test_statistic), color=\"red\", alpha=0.25)\n",
    "_ = ax.fill_between(x, students.pdf(x), where=(x >= test_statistic), color=\"red\", alpha=0.25)\n",
    "ax.legend()\n",
    "ax.set_title(\"p-value Region\");"
   ]
  },
  {
   "cell_type": "code",
   "execution_count": 447,
   "metadata": {},
   "outputs": [
    {
     "name": "stdout",
     "output_type": "stream",
     "text": [
      "p-value for average written reviews: 0.57\n"
     ]
    }
   ],
   "source": [
    "p_value_ = students.cdf(-test_statistic) + (1 - students.cdf(test_statistic))\n",
    "print(\"p-value for average written reviews: {:2.2f}\".format(p_value_))"
   ]
  },
  {
   "cell_type": "markdown",
   "metadata": {},
   "source": [
    "8. p-value: 0.57\n",
    "\n",
    "9. Results: Fail to reject H0.\n",
    "\n",
    "10. In conclusion, the data fails to show a difference in the average number of written reviews left by 4-star reviewers and 5-star reviewers."
   ]
  }
 ],
 "metadata": {
  "kernelspec": {
   "display_name": "Python 3",
   "language": "python",
   "name": "python3"
  },
  "language_info": {
   "codemirror_mode": {
    "name": "ipython",
    "version": 3
   },
   "file_extension": ".py",
   "mimetype": "text/x-python",
   "name": "python",
   "nbconvert_exporter": "python",
   "pygments_lexer": "ipython3",
   "version": "3.7.9"
  }
 },
 "nbformat": 4,
 "nbformat_minor": 4
}
