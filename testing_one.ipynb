{
 "cells": [
  {
   "cell_type": "code",
   "execution_count": 1,
   "metadata": {},
   "outputs": [],
   "source": [
    "from pymongo import MongoClient\n",
    "import pprint\n",
    "\n",
    "import pandas as pd\n",
    "pd.set_option('display.max_rows', None)\n",
    "import matplotlib.pyplot as plt\n",
    "plt.style.use('fivethirtyeight')\n",
    "\n",
    "import requests\n",
    "from bs4 import BeautifulSoup\n",
    "\n",
    "import json\n",
    "import time\n",
    "import copy\n",
    "\n",
    "import os\n",
    "\n",
    "from time import sleep\n",
    "from selenium import webdriver\n",
    "\n",
    "import sys"
   ]
  },
  {
   "cell_type": "markdown",
   "metadata": {},
   "source": [
    "Step 1:\n",
    "    gather data for three more hikes\n",
    "    loop through data\n",
    "    create dataframes\n",
    "    join df's for 4 and 5 stars\n",
    "    perform z-test\n",
    "\n",
    "Step 2:\n",
    "    perform further statistical tests\n",
    "    gather more hike data?\n",
    "    gather data on individual users and perform further tests"
   ]
  },
  {
   "cell_type": "code",
   "execution_count": 67,
   "metadata": {},
   "outputs": [],
   "source": [
    "links = ['https://www.alltrails.com/trail/us/new-jersey/long-path-gw-bridge-to-lamont-doherty-earth-observatory']\n",
    "for link in links:\n",
    "    driver = webdriver.Chrome()\n",
    "    driver.get(link)\n",
    "    sleep(3)\n",
    "\n",
    "    driver.execute_script(\"window.scrollTo(0, 10000)\")\n",
    "    search = driver.find_element_by_css_selector(\"#reviews > div.styles-module__container___px-t2.xlate-none > button\")\n",
    "    \n",
    "    total = driver.find_element_by_css_selector('#reviews > div.styles-module__container___px-t2.xlate-none > div')\n",
    "    total_ = int(total.text.split(' ')[-1])\n",
    "    \n",
    "    for _ in range(round(total_/25)):\n",
    "        search.click()\n",
    "        sleep(1)\n",
    "\n",
    "    html = driver.page_source\n",
    "    time.sleep(2)\n",
    "    \n",
    "    pages = db.{}\n",
    "    pages.insert_one({'link': link ,'html': html})\n",
    "\n",
    "# for trail in find('ul', class_=\" float-delete-button\").find_all('li', class_=\"styles-module__container___10uYZ\"):\n",
    "'https://www.alltrails.com' + get <a itemprop=\"url\" ('href') \"/explore/trail/us/new-jersey/long-path-gw-bridge-to-lamont-doherty-earth-observatory?ref=result-card\"\n",
    "    take off '/explore' —> BINGO"
   ]
  },
  {
   "cell_type": "code",
   "execution_count": 110,
   "metadata": {},
   "outputs": [],
   "source": [
    "# client = MongoClient()\n",
    "\n",
    "# db = client.alltrails"
   ]
  },
  {
   "cell_type": "code",
   "execution_count": 113,
   "metadata": {},
   "outputs": [],
   "source": [
    "pages = db.huyler_r"
   ]
  },
  {
   "cell_type": "code",
   "execution_count": 55,
   "metadata": {},
   "outputs": [],
   "source": [
    "# pages.insert_one({'link': huyler_landing_url ,'html': html})"
   ]
  },
  {
   "cell_type": "code",
   "execution_count": 7,
   "metadata": {},
   "outputs": [],
   "source": [
    "soup = BeautifulSoup(html, 'html.parser')"
   ]
  },
  {
   "cell_type": "code",
   "execution_count": 8,
   "metadata": {},
   "outputs": [
    {
     "data": {
      "text/plain": [
       "'2.2 mi'"
      ]
     },
     "execution_count": 8,
     "metadata": {},
     "output_type": "execute_result"
    }
   ],
   "source": [
    "# Trail title, description, difficulty, info\n",
    "soup.find('h1', class_='xlate-none styles-module__name___1nEtW').text.rstrip()\n",
    "soup.find('p', id=\"auto-overview\").text.rstrip()\n",
    "soup.find('span', class_=\"styles-module__diff___22Qtv styles-module__moderate___3w1it styles-module__selected___3fawg\").text.rstrip()\n",
    "soup.find('span', class_=\"styles-module__detailData___kQ-eK\").text.rstrip()"
   ]
  },
  {
   "cell_type": "code",
   "execution_count": 9,
   "metadata": {},
   "outputs": [
    {
     "data": {
      "text/plain": [
       "150"
      ]
     },
     "execution_count": 9,
     "metadata": {},
     "output_type": "execute_result"
    }
   ],
   "source": [
    "num_reviews = soup.find_all('div', itemtype=\"http://schema.org/Review\")\n",
    "len(num_reviews)\n",
    "# reviews \n",
    "# # create a list of links to the cat images \n",
    "# # links_to_cats = []\n",
    "# for i, review in enumerate(num_reviews): \n",
    "#     links_to_cats.append(cat.get_attribute('src'))"
   ]
  },
  {
   "cell_type": "code",
   "execution_count": 10,
   "metadata": {},
   "outputs": [],
   "source": [
    "written_review = \"\"\n",
    "ratings = []\n",
    "dates = []\n",
    "types = []\n",
    "review_text = []\n",
    "reviewer_links = []\n",
    "\n",
    "for i, review in enumerate(soup.find_all('div', itemprop=\"review\")):\n",
    "\n",
    "    ratings.append(soup.find_all('span', class_=\"MuiRating-root default-module__rating___1k45X MuiRating-sizeLarge MuiRating-readOnly\")[i]['aria-label'])\n",
    "    dates.append(soup.find_all('span', class_=\"styles-module__dateTrailDetails___3qgZC xlate-none\")[i].text.rstrip())\n",
    "    types.append(soup.find_all('span', class_=\"styles-module__tag___2s-oD styles-module__activityTag___3-RdN\")[i].text.rstrip())\n",
    "    \n",
    "    written_review = soup.find_all('div', class_=\"styles-module__container___3etfA\")[i].find('p', itemprop=\"reviewBody\")\n",
    "    \n",
    "    if written_review == None:\n",
    "        review_text.append(None)\n",
    "\n",
    "    else:\n",
    "        review_text.append(soup.find_all('div', class_=\"styles-module__container___3etfA\")[i].find('p', itemprop=\"reviewBody\").text.rstrip())        \n",
    "        \n",
    "    reviewer_links.append('alltrails.com' + soup.find_all('div', class_=\"styles-module__container___3etfA\")[1].find('a', class_=\"styles-module__link___2i6Za styles-module__recording___3jQX3 xlate-none\")['href'])"
   ]
  },
  {
   "cell_type": "code",
   "execution_count": 11,
   "metadata": {},
   "outputs": [],
   "source": [
    "df = pd.DataFrame({'rating': ratings, 'date':dates, 'desc': types, 'reviews': review_text, 'links': reviewer_links}).sort_values('rating')"
   ]
  },
  {
   "cell_type": "markdown",
   "metadata": {},
   "source": [
    "### Frequentist Approach"
   ]
  },
  {
   "cell_type": "raw",
   "metadata": {},
   "source": [
    "Scientific Question: Are 4-star reviewers more likely than 5-star reviewers to leave written reviews?\n",
    "H0:  4 and 5 star reviewers are equally likely to leave written reviews — P(R | 4) = P(R | 5)\n",
    "Ha: 4 and 5 star reviewers leave written reviews at different rates — P(R | 4) != P(R | 5)\n",
    "Test Statistic: 4-Stars: 15/46 and 5-Stars: 9/73\n"
   ]
  },
  {
   "cell_type": "code",
   "execution_count": 48,
   "metadata": {},
   "outputs": [
    {
     "data": {
      "text/html": [
       "<style  type=\"text/css\" >\n",
       "#T_b31de_row0_col0,#T_b31de_row0_col1,#T_b31de_row1_col0,#T_b31de_row1_col1{\n",
       "            text-align:  center;\n",
       "        }</style><table id=\"T_b31de_\" ><thead>    <tr>        <th class=\"blank level0\" ></th>        <th class=\"col_heading level0 col0\" >4 Stars</th>        <th class=\"col_heading level0 col1\" >5 Stars</th>    </tr></thead><tbody>\n",
       "                <tr>\n",
       "                        <th id=\"T_b31de_level0_row0\" class=\"row_heading level0 row0\" >Written Reviews</th>\n",
       "                        <td id=\"T_b31de_row0_col0\" class=\"data row0 col0\" >15</td>\n",
       "                        <td id=\"T_b31de_row0_col1\" class=\"data row0 col1\" >9</td>\n",
       "            </tr>\n",
       "            <tr>\n",
       "                        <th id=\"T_b31de_level0_row1\" class=\"row_heading level0 row1\" >Total Reviewers</th>\n",
       "                        <td id=\"T_b31de_row1_col0\" class=\"data row1 col0\" >46</td>\n",
       "                        <td id=\"T_b31de_row1_col1\" class=\"data row1 col1\" >73</td>\n",
       "            </tr>\n",
       "    </tbody></table>"
      ],
      "text/plain": [
       "<pandas.io.formats.style.Styler at 0x7fc442d9d510>"
      ]
     },
     "execution_count": 48,
     "metadata": {},
     "output_type": "execute_result"
    }
   ],
   "source": [
    "five = df[df['rating'] == '5 Stars']['reviews'].count() #num of written reviews left by five-star reviewers\n",
    "four = df[df['rating'] == '4 Stars']['reviews'].count() #num of written reviews left by four-star reviewers\n",
    "num_five = df[df['rating']=='5 Stars']['rating'].count() #num of five-star reviewers\n",
    "num_four = df[df['rating']=='4 Stars']['rating'].count() #num of four-star reviewers\n",
    "\n",
    "table = pd.DataFrame({'Written Reviews': [four, five], 'Total Reviewers': [num_four, num_five]}, index = ['4 Stars', '5 Stars']).T\n",
    "table = table.style.set_properties(**{'text-align': 'center'})\n",
    "table"
   ]
  },
  {
   "cell_type": "markdown",
   "metadata": {},
   "source": [
    "At first glance it is obvious that a much higher percentage of 4 star reviewers left written reviews than 5 star reviewers."
   ]
  },
  {
   "cell_type": "code",
   "execution_count": null,
   "metadata": {},
   "outputs": [],
   "source": []
  },
  {
   "cell_type": "code",
   "execution_count": null,
   "metadata": {},
   "outputs": [],
   "source": []
  },
  {
   "cell_type": "markdown",
   "metadata": {},
   "source": [
    "### Bayseian Approach"
   ]
  },
  {
   "cell_type": "code",
   "execution_count": null,
   "metadata": {},
   "outputs": [],
   "source": []
  }
 ],
 "metadata": {
  "kernelspec": {
   "display_name": "Python 3",
   "language": "python",
   "name": "python3"
  },
  "language_info": {
   "codemirror_mode": {
    "name": "ipython",
    "version": 3
   },
   "file_extension": ".py",
   "mimetype": "text/x-python",
   "name": "python",
   "nbconvert_exporter": "python",
   "pygments_lexer": "ipython3",
   "version": "3.7.9"
  }
 },
 "nbformat": 4,
 "nbformat_minor": 4
}
