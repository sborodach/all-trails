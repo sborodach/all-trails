{
 "cells": [
  {
   "cell_type": "code",
   "execution_count": 222,
   "metadata": {},
   "outputs": [],
   "source": [
    "from pymongo import MongoClient\n",
    "import pprint\n",
    "\n",
    "import pandas as pd\n",
    "pd.set_option('display.max_rows', None)\n",
    "import matplotlib.pyplot as plt\n",
    "plt.style.use('fivethirtyeight')\n",
    "\n",
    "import requests\n",
    "from bs4 import BeautifulSoup\n",
    "\n",
    "import json\n",
    "import time\n",
    "import copy\n",
    "\n",
    "import os\n",
    "\n",
    "from time import sleep\n",
    "from selenium import webdriver\n",
    "\n",
    "import sys\n",
    "import random\n",
    "import scipy.stats as scs\n",
    "import numpy as np\n",
    "\n",
    "import script"
   ]
  },
  {
   "cell_type": "markdown",
   "metadata": {},
   "source": [
    "Step 1:\n",
    "    gather data for three more hikes\n",
    "    loop through data\n",
    "    create dataframes\n",
    "    join df's for 4 and 5 stars\n",
    "    perform z-test\n",
    "\n",
    "Step 2:\n",
    "    perform further statistical tests\n",
    "    gather more hike data?\n",
    "    gather data on individual users and perform further tests"
   ]
  },
  {
   "cell_type": "code",
   "execution_count": 47,
   "metadata": {},
   "outputs": [
    {
     "data": {
      "text/plain": [
       "[]"
      ]
     },
     "execution_count": 47,
     "metadata": {},
     "output_type": "execute_result"
    }
   ],
   "source": [
    "# Collecting hiking trail links from https://www.alltrails.com/explore in a particular hiking area\n",
    "hiking_area_url = 'https://www.alltrails.com/explore/us/new-jersey/teaneck?b_tl_lat=40.95350100196839&b_tl_lng=-74.12586328125226&b_br_lat=40.84165171789468&b_br_lng=-73.90613671875113'\n",
    "\n",
    "# Solves 403 'Forbidden' error\n",
    "headers = {'User-Agent': 'Mozilla/5.0 (Windows NT 6.1; WOW64) AppleWebKit/537.36 (KHTML, like Gecko) Chrome/56.0.2924.76 Safari/537.36'}\n",
    "\n",
    "# getting html\n",
    "r = requests.get(hiking_area_url, headers=headers)\n",
    "\n",
    "# status_code check\n",
    "if r.status_code != 200:\n",
    "    print(r.status_code)\n",
    "\n",
    "# parsing html\n",
    "soup = BeautifulSoup(r.text, 'html.parser')\n",
    "\n",
    "# getting hrefs to specific hikes in this area\n",
    "hrefs = soup.find_all('a', itemprop=\"url\")\n",
    "hrefs\n",
    "\n",
    "# .text.rstrip()\n",
    "\n",
    "# find_all('a', itemprop=\"url\" ... ('href')\n",
    "\n",
    "# links = []\n",
    "# for i, href in enumerate(hrefs):\n",
    "#     cleaned_href = ('/').join(href.split('/')[2:])\n",
    "#     links.append('https://www.alltrails.com/' + cleaned_href)\n",
    "\n",
    "https://www.alltrails.com/trail/us/new-jersey/hackensack-river-county-park-trail\n",
    "soup.find('div', class_='styles-module__container___10uYZ')"
   ]
  },
  {
   "cell_type": "code",
   "execution_count": 141,
   "metadata": {},
   "outputs": [],
   "source": [
    "# instantiating variables to be columns in dataframe\n",
    "links = ['https://www.alltrails.com/trail/us/new-jersey/shore-trail-and-long-trail-loop-from-alpine-picnic-area', 'https://www.alltrails.com/trail/us/new-jersey/long-path-gw-bridge-to-lamont-doherty-earth-observatory']\n",
    "written_review = \"\"\n",
    "ratings = []\n",
    "dates = []\n",
    "types = []\n",
    "review_text = []\n",
    "reviewer_links = []\n",
    "driver = webdriver.Chrome()\n",
    "\n",
    "# Loop through links to get html, save to mongo, extract relevant data\n",
    "for link in links:\n",
    "    driver.get(link)\n",
    "    sleep(3)\n",
    "\n",
    "    driver.execute_script(\"window.scrollTo(0, 10000)\")\n",
    "\n",
    "# find 'show more reviews button'\n",
    "    search = driver.find_element_by_css_selector(\"#reviews > div.styles-module__container___px-t2.xlate-none > button\")\n",
    "    \n",
    "# prevents error being thrown once total trail reviews is reached; \n",
    "    showing_results = driver.find_element_by_css_selector('#reviews > div.styles-module__container___px-t2.xlate-none > div')\n",
    "    total_ = int(showing_results.text.split(' ')[-1])\n",
    "    per_page = int(showing_results.text.split(' ')[-3])\n",
    "\n",
    "# clicks through to see additional reviews\n",
    "    for _ in range((total_//per_page)-1):\n",
    "        search.click()\n",
    "        sleep(1)\n",
    "\n",
    "# get page html\n",
    "    html = driver.page_source\n",
    "    time.sleep(2)\n",
    "\n",
    "# add html to mongo\n",
    "    client = MongoClient()\n",
    "    db = client.alltrails\n",
    "    trail_name = (link.split('/'))[-1]\n",
    "    pages = db.trail_name\n",
    "    pages.insert_one({'link': link ,'html': html})\n",
    "    \n",
    "# parsing data\n",
    "    soup = BeautifulSoup(html, 'html.parser')\n",
    "\n",
    "# getting trail title, description, difficulty, info\n",
    "    soup.find('h1', class_='xlate-none styles-module__name___1nEtW').text.rstrip()\n",
    "    soup.find('p', id=\"auto-overview\").text.rstrip()\n",
    "    soup.find('span', class_=\"styles-module__diff___22Qtv styles-module__moderate___3w1it styles-module__selected___3fawg\").text.rstrip()\n",
    "    soup.find('span', class_=\"styles-module__detailData___kQ-eK\").text.rstrip()\n",
    "\n",
    "# getting reviewer data for trail, appending to lists\n",
    "    for i, review in enumerate(soup.find_all('div', itemprop=\"review\")):\n",
    "\n",
    "        ratings.append(soup.find_all('span', class_=\"MuiRating-root default-module__rating___1k45X MuiRating-sizeLarge MuiRating-readOnly\")[i]['aria-label'])\n",
    "        dates.append(soup.find_all('span', class_=\"styles-module__dateTrailDetails___3qgZC xlate-none\")[i].text.rstrip())\n",
    "        types.append(soup.find_all('span', class_=\"styles-module__tag___2s-oD styles-module__activityTag___3-RdN\")[i].text.rstrip())\n",
    "\n",
    "        written_review = soup.find_all('div', class_=\"styles-module__container___3etfA\")[i].find('p', itemprop=\"reviewBody\")\n",
    "\n",
    "        if written_review == None:\n",
    "            review_text.append(None)\n",
    "\n",
    "        else:\n",
    "            review_text.append(soup.find_all('div', class_=\"styles-module__container___3etfA\")[i].find('p', itemprop=\"reviewBody\").text.rstrip())        \n",
    "\n",
    "#         reviewer_links.append('alltrails.com' + soup.find_all('div', class_=\"styles-module__container___3etfA\")[1].find('a', class_=\"styles-module__link___2i6Za styles-module__recording___3jQX3 xlate-none\")['href'])\n",
    "    \n",
    "    # for trail in find('ul', class_=\" float-delete-button\").find_all('li', class_=\"styles-module__container___10uYZ\"):"
   ]
  },
  {
   "cell_type": "code",
   "execution_count": null,
   "metadata": {},
   "outputs": [],
   "source": [
    ", 'https://www.alltrails.com/trail/us/new-jersey/henry-hudson-drive', 'https://www.alltrails.com/trail/us/new-jersey/flat-rock-brook-loop-trail']"
   ]
  },
  {
   "cell_type": "code",
   "execution_count": 152,
   "metadata": {},
   "outputs": [],
   "source": [
    "# close Selenium ChromeDriver\n",
    "driver.close()\n",
    "\n",
    "# collecting data into dataframe\n",
    "df = pd.DataFrame({'rating': ratings, 'date':dates, 'desc': types, 'reviews': review_text}).sort_values('rating') # to be added: 'links': reviewer_links"
   ]
  },
  {
   "cell_type": "markdown",
   "metadata": {},
   "source": [
    "### Frequentist Approach"
   ]
  },
  {
   "cell_type": "raw",
   "metadata": {},
   "source": [
    "Scientific Question: Are 4-star reviewers more likely than 5-star reviewers to leave written reviews?"
   ]
  },
  {
   "cell_type": "code",
   "execution_count": 153,
   "metadata": {},
   "outputs": [
    {
     "data": {
      "text/html": [
       "<style  type=\"text/css\" >\n",
       "#T_dd485_row0_col0,#T_dd485_row0_col1,#T_dd485_row1_col0,#T_dd485_row1_col1{\n",
       "            text-align:  center;\n",
       "        }</style><table id=\"T_dd485_\" ><thead>    <tr>        <th class=\"blank level0\" ></th>        <th class=\"col_heading level0 col0\" >4 Stars</th>        <th class=\"col_heading level0 col1\" >5 Stars</th>    </tr></thead><tbody>\n",
       "                <tr>\n",
       "                        <th id=\"T_dd485_level0_row0\" class=\"row_heading level0 row0\" >Written Reviews</th>\n",
       "                        <td id=\"T_dd485_row0_col0\" class=\"data row0 col0\" >47</td>\n",
       "                        <td id=\"T_dd485_row0_col1\" class=\"data row0 col1\" >75</td>\n",
       "            </tr>\n",
       "            <tr>\n",
       "                        <th id=\"T_dd485_level0_row1\" class=\"row_heading level0 row1\" >Total Reviewers</th>\n",
       "                        <td id=\"T_dd485_row1_col0\" class=\"data row1 col0\" >206</td>\n",
       "                        <td id=\"T_dd485_row1_col1\" class=\"data row1 col1\" >361</td>\n",
       "            </tr>\n",
       "    </tbody></table>"
      ],
      "text/plain": [
       "<pandas.io.formats.style.Styler at 0x7fe30fb70d90>"
      ]
     },
     "execution_count": 153,
     "metadata": {},
     "output_type": "execute_result"
    }
   ],
   "source": [
    "five = df[df['rating'] == '5 Stars']['reviews'].count() #num of written reviews left by five-star reviewers\n",
    "four = df[df['rating'] == '4 Stars']['reviews'].count() #num of written reviews left by four-star reviewers\n",
    "num_five = df[df['rating']=='5 Stars']['rating'].count() #num of five-star reviewers\n",
    "num_four = df[df['rating']=='4 Stars']['rating'].count() #num of four-star reviewers\n",
    "\n",
    "table = pd.DataFrame({'Written Reviews': [four, five], 'Total Reviewers': [num_four, num_five]}, index = ['4 Stars', '5 Stars']).T\n",
    "table = table.style.set_properties(**{'text-align': 'center'})\n",
    "table"
   ]
  },
  {
   "cell_type": "markdown",
   "metadata": {},
   "source": [
    "At first glance it is obvious that a much higher percentage of 4 star reviewers left written reviews than 5 star reviewers."
   ]
  },
  {
   "cell_type": "markdown",
   "metadata": {},
   "source": [
    "## Hypotheses\n",
    "\n",
    "H0: Mu4 = Mu5 (4 and 5 star reviewers are equally likely to leave written reviews — P(R | 4) = P(R | 5))\n",
    "\n",
    "Ha: Mu4 != Mu5 (4 and 5 star reviewers leave written reviews at different rates — P(R | 4) != P(R | 5))\n",
    "\n",
    "Test Statistic: 4-Stars: 206 reviews and 5-Stars: 361 reviewers\n",
    "\n",
    "Alpha: 0.05"
   ]
  },
  {
   "cell_type": "code",
   "execution_count": 226,
   "metadata": {},
   "outputs": [],
   "source": [
    "four_stars_distribution = ([0] * (206 - 47)) + ([1] * 47)\n",
    "five_stars_distribution = (([0] * (361 - 75)) + ([1] * 75))\n",
    "four_stars_prob_distribution = []\n",
    "five_stars_prob_distribution = []\n",
    "for i in four_stars_distribution:\n",
    "    four_stars_prob_distribution.append((mean_pop, 1 - mean_pop)[i])\n",
    "for i in five_stars_distribution:\n",
    "    five_stars_prob_distribution.append((mean_pop, 1 - mean_pop)[i])"
   ]
  },
  {
   "cell_type": "code",
   "execution_count": 227,
   "metadata": {},
   "outputs": [],
   "source": [
    "# calculate welch test statistic\n",
    "test_statistic = welch_test_statistic(sample_1, sample_2)"
   ]
  },
  {
   "cell_type": "code",
   "execution_count": 228,
   "metadata": {},
   "outputs": [
    {
     "data": {
      "text/plain": [
       "0.2867215735365761"
      ]
     },
     "execution_count": 228,
     "metadata": {},
     "output_type": "execute_result"
    }
   ],
   "source": [
    "# calculate degrees of freedom\n",
    "df = welch_satterhwaithe_df(sample_1, sample_2)\n",
    "\n",
    "# set up distribution\n",
    "students = scs.t(df)\n",
    "\n",
    "# calculate p-value\n",
    "p_value = 1 - students.cdf(test_statistic)\n",
    "p_value"
   ]
  },
  {
   "cell_type": "markdown",
   "metadata": {},
   "source": [
    "Fail to reject the H0.\n",
    "\n",
    "In conclusion, the data fails to show a difference in the average number of written reviews left by 4-star reviewers and 5-star reviewers."
   ]
  },
  {
   "cell_type": "code",
   "execution_count": null,
   "metadata": {},
   "outputs": [],
   "source": []
  }
 ],
 "metadata": {
  "kernelspec": {
   "display_name": "Python 3",
   "language": "python",
   "name": "python3"
  },
  "language_info": {
   "codemirror_mode": {
    "name": "ipython",
    "version": 3
   },
   "file_extension": ".py",
   "mimetype": "text/x-python",
   "name": "python",
   "nbconvert_exporter": "python",
   "pygments_lexer": "ipython3",
   "version": "3.7.9"
  }
 },
 "nbformat": 4,
 "nbformat_minor": 4
}
