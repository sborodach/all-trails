{
 "cells": [
  {
   "cell_type": "markdown",
   "id": "inappropriate-listing",
   "metadata": {},
   "source": [
    "## Pipeline to get trail links for an entire park"
   ]
  },
  {
   "cell_type": "code",
   "execution_count": null,
   "id": "graphic-fourth",
   "metadata": {},
   "outputs": [],
   "source": [
    "park_link = 'https://www.alltrails.com/parks/us/new-york/bear-mountain-state-park'\n",
    "    \n",
    "# ChromeDriver & MongoClient\n",
    "driver = webdriver.Chrome()\n",
    "client = MongoClient()\n",
    "\n",
    "driver.get(park_link)\n",
    "sleep(3)\n",
    "\n",
    "driver.execute_script(\"window.scrollTo(0, 3500)\")\n",
    "\n",
    "# find 'show more reviews button'\n",
    "search = driver.find_element_by_css_selector(\"#stick-bar-parent > div.styles-module__section___20Yip > div.styles-module__showMore___2Bhtr > div > button\")\n",
    "\n",
    "# prevents error being thrown once total trail reviews is reached; \n",
    "showing_results = driver.find_element_by_css_selector('#stick-bar-parent > div.styles-module__section___20Yip > div.styles-module__showMore___2Bhtr > div > div')\n",
    "total_ = int(showing_results.text.split(' ')[-1])\n",
    "per_page = int(showing_results.text.split(' ')[-3])\n",
    "\n",
    "# clicks through to see additional reviews\n",
    "for _ in range((total_//per_page)-1):\n",
    "    search.click()\n",
    "    sleep(1)\n",
    "\n",
    "# get page html\n",
    "html = driver.page_source\n",
    "time.sleep(2)\n",
    "\n",
    "# parsing data\n",
    "soup = BeautifulSoup(html, 'html.parser')\n",
    "\n",
    "# collect hrefs\n",
    "hrefs = []\n",
    "divs = soup.find_all('div', \"styles-module__containerDescriptive___3aZqQ styles-module__trailCard___2oHiP\")\n",
    "for i, div in enumerate(divs):\n",
    "    hrefs.append(soup.find_all('div', \"styles-module__containerDescriptive___3aZqQ styles-module__trailCard___2oHiP\")[i].a['href'])\n",
    "    \n",
    "# concatenate website link with hrefs to get all park trail links\n",
    "links = []\n",
    "for i, href in enumerate(hrefs):\n",
    "    links.append('https://www.alltrails.com/' + href)"
   ]
  },
  {
   "cell_type": "markdown",
   "id": "cardiac-yellow",
   "metadata": {},
   "source": [
    "### Setup to get html from AllTrails using requests module"
   ]
  },
  {
   "cell_type": "code",
   "execution_count": 1,
   "id": "difficult-incident",
   "metadata": {},
   "outputs": [],
   "source": [
    "# Collecting hiking trail links from https://www.alltrails.com/ in a particular hiking area\n",
    "url = ''\n",
    "\n",
    "# Solves 403 'Forbidden' error\n",
    "headers = {'User-Agent': 'Mozilla/5.0 (Windows NT 6.1; WOW64) AppleWebKit/537.36 (KHTML, like Gecko) Chrome/56.0.2924.76 Safari/537.36'}\n",
    "\n",
    "# getting html\n",
    "r = requests.get(url, headers=headers)\n",
    "\n",
    "# status_code check\n",
    "if r.status_code != 200:\n",
    "    print(r.status_code)\n",
    "\n",
    "# parsing html\n",
    "soup = BeautifulSoup(r.text, 'html.parser')"
   ]
  }
 ],
 "metadata": {
  "kernelspec": {
   "display_name": "Python 3",
   "language": "python",
   "name": "python3"
  },
  "language_info": {
   "codemirror_mode": {
    "name": "ipython",
    "version": 3
   },
   "file_extension": ".py",
   "mimetype": "text/x-python",
   "name": "python",
   "nbconvert_exporter": "python",
   "pygments_lexer": "ipython3",
   "version": "3.7.9"
  }
 },
 "nbformat": 4,
 "nbformat_minor": 5
}
